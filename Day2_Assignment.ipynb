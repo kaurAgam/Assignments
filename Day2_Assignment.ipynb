{
  "nbformat": 4,
  "nbformat_minor": 0,
  "metadata": {
    "colab": {
      "provenance": [],
      "authorship_tag": "ABX9TyPAmUbf2pwMbrY235mLd4cH",
      "include_colab_link": true
    },
    "kernelspec": {
      "name": "python3",
      "display_name": "Python 3"
    },
    "language_info": {
      "name": "python"
    }
  },
  "cells": [
    {
      "cell_type": "markdown",
      "metadata": {
        "id": "view-in-github",
        "colab_type": "text"
      },
      "source": [
        "<a href=\"https://colab.research.google.com/github/kaurAgam/Assignments/blob/main/Day2_Assignment.ipynb\" target=\"_parent\"><img src=\"https://colab.research.google.com/assets/colab-badge.svg\" alt=\"Open In Colab\"/></a>"
      ]
    },
    {
      "cell_type": "markdown",
      "source": [
        "**SOLUTION 1**"
      ],
      "metadata": {
        "id": "FKaQDVOq31ot"
      }
    },
    {
      "cell_type": "code",
      "execution_count": null,
      "metadata": {
        "colab": {
          "base_uri": "https://localhost:8080/"
        },
        "id": "oUw3gFTh3dNk",
        "outputId": "f87b0cee-b0f1-4e52-faff-ac92f8cdcc74"
      },
      "outputs": [
        {
          "output_type": "stream",
          "name": "stdout",
          "text": [
            "[11, 12, 13, 14, 50, 60]\n"
          ]
        }
      ],
      "source": [
        "L=[11,12,13,14]\n",
        "L.append(50)\n",
        "L.append(60)\n",
        "print(L)"
      ]
    },
    {
      "cell_type": "code",
      "source": [
        "L.remove(11)\n",
        "L.remove(13)\n",
        "print(L)"
      ],
      "metadata": {
        "colab": {
          "base_uri": "https://localhost:8080/"
        },
        "id": "Haze_fda4I9b",
        "outputId": "a906d630-ff17-45d8-fe5a-801241bbfb20"
      },
      "execution_count": null,
      "outputs": [
        {
          "output_type": "stream",
          "name": "stdout",
          "text": [
            "[12, 14, 50, 60]\n"
          ]
        }
      ]
    },
    {
      "cell_type": "code",
      "source": [
        "L.sort()\n",
        "print(L)\n",
        "L.sort(reverse=True)\n",
        "print(L)"
      ],
      "metadata": {
        "colab": {
          "base_uri": "https://localhost:8080/"
        },
        "id": "No3u3zk94UBJ",
        "outputId": "02165839-0e96-4b9c-dbb3-2e10ac80e20b"
      },
      "execution_count": null,
      "outputs": [
        {
          "output_type": "stream",
          "name": "stdout",
          "text": [
            "[12, 14, 50, 60]\n",
            "[60, 50, 14, 12]\n"
          ]
        }
      ]
    },
    {
      "cell_type": "code",
      "source": [
        "if 13 in L:\n",
        "  print(L.index(13))\n",
        "else:\n",
        "  print(\"NOT FOUND\")"
      ],
      "metadata": {
        "colab": {
          "base_uri": "https://localhost:8080/"
        },
        "id": "mkrvq-G04cax",
        "outputId": "b751599f-7b9c-496c-af23-3f49960567ac"
      },
      "execution_count": null,
      "outputs": [
        {
          "output_type": "stream",
          "name": "stdout",
          "text": [
            "NOT FOUND\n"
          ]
        }
      ]
    },
    {
      "cell_type": "code",
      "source": [
        "print(len(L))"
      ],
      "metadata": {
        "colab": {
          "base_uri": "https://localhost:8080/"
        },
        "id": "qpZ2tAYc5CNG",
        "outputId": "e28a474d-b953-4423-e223-c44775af392f"
      },
      "execution_count": null,
      "outputs": [
        {
          "output_type": "stream",
          "name": "stdout",
          "text": [
            "4\n"
          ]
        }
      ]
    },
    {
      "cell_type": "code",
      "source": [
        "sum=0\n",
        "for i in range(0,len(L)):\n",
        "  sum=sum+L[i]\n",
        "print(sum)"
      ],
      "metadata": {
        "colab": {
          "base_uri": "https://localhost:8080/"
        },
        "id": "GG-rCncW5J17",
        "outputId": "5af62c66-eca4-41c5-ceaa-8a7e3809c7f2"
      },
      "execution_count": null,
      "outputs": [
        {
          "output_type": "stream",
          "name": "stdout",
          "text": [
            "136\n"
          ]
        }
      ]
    },
    {
      "cell_type": "code",
      "source": [
        "sum=0\n",
        "for i in range(0,len(L)):\n",
        "  if(L[i]%2==0):\n",
        "    sum=sum+L[i]\n",
        "print(sum)"
      ],
      "metadata": {
        "colab": {
          "base_uri": "https://localhost:8080/"
        },
        "id": "9PTBXwWn5Jtw",
        "outputId": "5f328ae8-1b53-4ee2-e3eb-6cc6e0f66a2d"
      },
      "execution_count": null,
      "outputs": [
        {
          "output_type": "stream",
          "name": "stdout",
          "text": [
            "136\n"
          ]
        }
      ]
    },
    {
      "cell_type": "code",
      "source": [
        "sum=0\n",
        "for i in range(0,len(L)):\n",
        "  if(L[i]%2!=0):\n",
        "    sum=sum+L[i]\n",
        "print(sum)"
      ],
      "metadata": {
        "colab": {
          "base_uri": "https://localhost:8080/"
        },
        "id": "w7tHI2wE5Jjf",
        "outputId": "84d74860-8f51-431d-efde-0eca49dfe0a6"
      },
      "execution_count": null,
      "outputs": [
        {
          "output_type": "stream",
          "name": "stdout",
          "text": [
            "0\n"
          ]
        }
      ]
    },
    {
      "cell_type": "code",
      "source": [
        "\n",
        "def check_prime(x):\n",
        "  for i in range(2,int(x/2 + 1)):\n",
        "    if x%i==0:\n",
        "      return 0\n",
        "  return 1\n",
        "\n",
        "sum=0\n",
        "for i in range(0,len(L)):\n",
        "  if(check_prime(L[i])==1):\n",
        "    sum=sum+L[i]\n",
        "print(sum)"
      ],
      "metadata": {
        "colab": {
          "base_uri": "https://localhost:8080/"
        },
        "id": "_fTXjoWX5JX5",
        "outputId": "9dd5176e-242b-4b8f-f098-49ad1223f3cb"
      },
      "execution_count": null,
      "outputs": [
        {
          "output_type": "stream",
          "name": "stdout",
          "text": [
            "0\n"
          ]
        }
      ]
    },
    {
      "cell_type": "code",
      "source": [
        "L.clear()\n",
        "print(L)"
      ],
      "metadata": {
        "colab": {
          "base_uri": "https://localhost:8080/"
        },
        "id": "SQaADDA37ACj",
        "outputId": "f3992d55-d44e-480f-c11c-7cccacb9bfed"
      },
      "execution_count": null,
      "outputs": [
        {
          "output_type": "stream",
          "name": "stdout",
          "text": [
            "[]\n"
          ]
        }
      ]
    },
    {
      "cell_type": "code",
      "source": [
        "#L.delete()\n",
        "#print(L)"
      ],
      "metadata": {
        "id": "VSE-pD_H7GSv"
      },
      "execution_count": null,
      "outputs": []
    },
    {
      "cell_type": "markdown",
      "source": [
        "**SOLUTION 2**"
      ],
      "metadata": {
        "id": "v4bms3r57Kkf"
      }
    },
    {
      "cell_type": "code",
      "source": [
        "D={1:5.6,2:7.8,3:6.6,4:8.7,5:7.7}\n",
        "\n",
        "del D[2]\n",
        "print(\"After deletion: \",D)\n",
        "\n",
        "print(\"Checking whether 6 key is present in D: \",6 in D)\n",
        "\n",
        "print(\"number of elements in D: \",len(D))\n",
        "\n",
        "sum=0\n",
        "for i in D:\n",
        "  sum+=D[i];\n",
        "print(\"Sum of values in D: \",round(sum,2))\n",
        "\n",
        "D[3]=7.1\n",
        "print(\"After Update: \",D)\n",
        "\n",
        "D.clear()\n",
        "print(\"After clear: \",D)"
      ],
      "metadata": {
        "id": "QH_TFEUJ7Mzk",
        "colab": {
          "base_uri": "https://localhost:8080/"
        },
        "outputId": "911e97b3-eb8b-47a3-c9ff-54a84e9fee30"
      },
      "execution_count": null,
      "outputs": [
        {
          "output_type": "stream",
          "name": "stdout",
          "text": [
            "After deletion:  {1: 5.6, 3: 6.6, 4: 8.7, 5: 7.7}\n",
            "Checking whether 6 key is present in D:  False\n",
            "number of elements in D:  4\n",
            "Sum of values in D:  28.6\n",
            "After Update:  {1: 5.6, 3: 7.1, 4: 8.7, 5: 7.7}\n",
            "After clear:  {}\n"
          ]
        }
      ]
    },
    {
      "cell_type": "markdown",
      "source": [
        "**SOLUTION 3**"
      ],
      "metadata": {
        "id": "1ucTI5XjhkJK"
      }
    },
    {
      "cell_type": "code",
      "source": [
        "s1=set([10,20,30,40,50,60])\n",
        "s2=set([40,50,60,70,80,90])\n",
        "\n",
        "#add 55 and 66 in s1\n",
        "s1.add(55)\n",
        "s1.add(66)\n",
        "print(\" S1 after addition: \",s1)\n",
        "\n",
        "s1.remove(10)\n",
        "s1.remove(30)\n",
        "print(\" S1 after deletion: \",s1)\n",
        "\n",
        "print(\" Check whether 40 is present in s1: \",40 in s1)\n",
        "\n",
        "print(\" S1 union S2: \",s1.union(s2))\n",
        "\n",
        "print(\" S1 intersection s2: \",s1.intersection(s2))\n",
        "\n",
        "print(\" S1-S2: \",s1-s2)\n",
        "\n"
      ],
      "metadata": {
        "colab": {
          "base_uri": "https://localhost:8080/"
        },
        "id": "y2oY93s6hoKa",
        "outputId": "a1066f47-3c07-4711-acd0-2de9d263584b"
      },
      "execution_count": null,
      "outputs": [
        {
          "output_type": "stream",
          "name": "stdout",
          "text": [
            " S1 after addition:  {66, 40, 10, 50, 20, 55, 60, 30}\n",
            " S1 after deletion:  {66, 40, 50, 20, 55, 60}\n",
            " Check whether 40 is present in s1:  True\n",
            " S1 union S2:  {66, 70, 40, 80, 50, 20, 55, 90, 60}\n",
            " S1 intersection s2:  {40, 50, 60}\n",
            " S1-S2:  {66, 20, 55}\n"
          ]
        }
      ]
    },
    {
      "cell_type": "markdown",
      "source": [
        "**SOLUTION 4**"
      ],
      "metadata": {
        "id": "ujyutvQIkw4k"
      }
    },
    {
      "cell_type": "code",
      "source": [
        "import random as r\n",
        "import string as s\n",
        "print(\"Printing 100 strings->\")\n",
        "for i in range(0,100):\n",
        "  print(\"\".join(r.sample(s.ascii_letters+s.digits,r.randint(6,8))),end=', ')"
      ],
      "metadata": {
        "colab": {
          "base_uri": "https://localhost:8080/"
        },
        "id": "EYDdlQWRkv-2",
        "outputId": "93466923-c372-4e64-a1b5-52045bf8103c"
      },
      "execution_count": null,
      "outputs": [
        {
          "output_type": "stream",
          "name": "stdout",
          "text": [
            "Printing 100 strings->\n",
            "MXwFI5, cqUab8, VcrKgM, 4QFuYD3e, ZRwS4Q, 49ZU8Q, 48RJoHj, mHrLdQtZ, uhwjtl, BZOdRL8i, ZaILq1e, Pq1LvdaU, gQdzVZ, 8WmHcyh, ExHb9rg, RmgjlWk, zmoW9Q, Ef1eLnYj, B9TdN8Mr, vXnuIFT, 72t1Oiv, jdImKf, TloGd7, 0tdwb26y, jkPJ4EC, 5bL7wPy, gyO0SZk, xahoAQLl, I6NBDf8U, ShUL0Ce, bnkNiGu, McSTRXY6, 1mWgvN, O3UJyjGM, owVxvK2, nBDpOtIG, 0XeqVgQ, OTgzGJQ, TtydM5Lw, WJX35t, sJMSwq, mINiP5Y8, y957kj, RDcXGh, fkIRZ3, FkJeK0yC, 4e7AH1NB, aZlg4sf, Wo40Ns, lKSVxPBq, 3KFpOb, 4e3uOZ, fM2heV, uxhYyQ, PLu7T3, JeyiB0l, WbhOel, Yihq64, pQgeCzXZ, k5EC7Y, gRWu2x, eD1wC2, BhamEU, EClOYib, MVX2kR1W, ljAmwG, c5fVDUYM, z2X46ED, bKC5ZOs, t39XpCzY, s9iWpnq7, yfxLuZ, oI369lD, kOguNn, Px5lUgZc, rmIhPl3v, qLiIzp, sDrqPM, W7CBL34, 3crDTv, RBFG2te, qiW59MLP, RyhrJLF, HTr1BDp, EFB6Km1, 96E084, qIHY3if, T8yOixC, CuF2qhZ, X2qdr7, BweOKqNC, TamAHl, xvrYbd, Zn8vugH, rXF7IBzT, wRPNfU, PZG0mr, 812czwOg, QWg1rUt, nTZEclp, "
          ]
        }
      ]
    },
    {
      "cell_type": "code",
      "source": [
        "def IsPrime(n):\n",
        "\tfor i in range(2, n//2 + 1):\n",
        "\t\tif n%i==0:\n",
        "\t\t\treturn 0\n",
        "\treturn 1\n",
        "\n",
        "for i in range(600,801):\n",
        "  if(IsPrime(i)==1):\n",
        "    print(i,end=', ')"
      ],
      "metadata": {
        "colab": {
          "base_uri": "https://localhost:8080/"
        },
        "id": "xr9v-BEosHfL",
        "outputId": "97de0eef-8dc6-4a73-f6bf-3aef386bec80"
      },
      "execution_count": null,
      "outputs": [
        {
          "output_type": "stream",
          "name": "stdout",
          "text": [
            "601, 607, 613, 617, 619, 631, 641, 643, 647, 653, 659, 661, 673, 677, 683, 691, 701, 709, 719, 727, 733, 739, 743, 751, 757, 761, 769, 773, 787, 797, "
          ]
        }
      ]
    },
    {
      "cell_type": "code",
      "source": [
        "for i in range(100,1001):\n",
        "  if(i%7==0 and i%9==0):\n",
        "    print(i,end=', ')"
      ],
      "metadata": {
        "colab": {
          "base_uri": "https://localhost:8080/"
        },
        "id": "r0c_Ha4rso0g",
        "outputId": "e478fbcd-c856-4d91-81bf-23e6801793d9"
      },
      "execution_count": null,
      "outputs": [
        {
          "output_type": "stream",
          "name": "stdout",
          "text": [
            "126, 189, 252, 315, 378, 441, 504, 567, 630, 693, 756, 819, 882, 945, "
          ]
        }
      ]
    },
    {
      "cell_type": "markdown",
      "source": [
        "**SOLUTION 5**"
      ],
      "metadata": {
        "id": "-nxwYpDZs2zj"
      }
    },
    {
      "cell_type": "code",
      "source": [
        "r1=[]\n",
        "r2=[]\n",
        "for i in range(0,10):\n",
        "  r1.append(r.randint(10,30))\n",
        "  r2.append(r.randint(10,30))\n",
        "\n",
        "print(r1)\n",
        "print(r2)"
      ],
      "metadata": {
        "colab": {
          "base_uri": "https://localhost:8080/"
        },
        "id": "Jd9gGSgvs130",
        "outputId": "2e23b040-2551-49f2-d3bf-3139f7a0ddf5"
      },
      "execution_count": null,
      "outputs": [
        {
          "output_type": "stream",
          "name": "stdout",
          "text": [
            "[22, 14, 30, 14, 16, 25, 27, 12, 27, 13]\n",
            "[25, 18, 20, 24, 24, 25, 27, 10, 25, 22]\n"
          ]
        }
      ]
    },
    {
      "cell_type": "code",
      "source": [
        "print(\"Common numbers in lists: \",(set(r1).intersection(set(r2))))"
      ],
      "metadata": {
        "colab": {
          "base_uri": "https://localhost:8080/"
        },
        "id": "YwK2PJnvtPQs",
        "outputId": "e765f144-4f99-4ed3-c1b1-cfeb8807a654"
      },
      "execution_count": null,
      "outputs": [
        {
          "output_type": "stream",
          "name": "stdout",
          "text": [
            "Common numbers in lists:  {25, 27, 22}\n"
          ]
        }
      ]
    },
    {
      "cell_type": "code",
      "source": [
        "print(\"Unique numbers in lists: \",(set(r1).union(set(r2)))-(set(r1).intersection(set(r2))) )"
      ],
      "metadata": {
        "colab": {
          "base_uri": "https://localhost:8080/"
        },
        "id": "Ivv6r5_2xfuN",
        "outputId": "0914fafc-7828-4dc1-84c3-9bb61ad9e007"
      },
      "execution_count": null,
      "outputs": [
        {
          "output_type": "stream",
          "name": "stdout",
          "text": [
            "Unique numbers in lists:  {10, 12, 13, 14, 16, 18, 20, 24, 30}\n"
          ]
        }
      ]
    },
    {
      "cell_type": "code",
      "source": [
        "print(\"Minimum in list: \",min(r1+r2))\n",
        "print(\"Maximum in list: \",max(r1+r2))"
      ],
      "metadata": {
        "colab": {
          "base_uri": "https://localhost:8080/"
        },
        "id": "VxiSFR82xp_a",
        "outputId": "c05d9b64-9855-4666-b10b-32dd1a7b353f"
      },
      "execution_count": null,
      "outputs": [
        {
          "output_type": "stream",
          "name": "stdout",
          "text": [
            "Minimum in list:  10\n",
            "Maximum in list:  30\n"
          ]
        }
      ]
    },
    {
      "cell_type": "markdown",
      "source": [
        "**SOLUTION 6**"
      ],
      "metadata": {
        "id": "3KRWm6evyyij"
      }
    },
    {
      "cell_type": "code",
      "source": [
        "L=[]\n",
        "for i in range(0,100):\n",
        "  L.append(r.randint(100,900))\n",
        "print(L)"
      ],
      "metadata": {
        "colab": {
          "base_uri": "https://localhost:8080/"
        },
        "id": "Ma96YtI6yw0h",
        "outputId": "4506197d-42d9-4be1-ca63-f0ea6aa60fef"
      },
      "execution_count": null,
      "outputs": [
        {
          "output_type": "stream",
          "name": "stdout",
          "text": [
            "[548, 241, 282, 481, 505, 550, 897, 319, 576, 529, 161, 260, 609, 640, 787, 102, 254, 516, 676, 285, 798, 398, 680, 529, 786, 793, 801, 815, 130, 706, 551, 261, 133, 529, 536, 188, 603, 461, 821, 250, 390, 120, 779, 413, 723, 696, 483, 400, 707, 324, 564, 635, 254, 865, 632, 674, 892, 562, 193, 671, 554, 449, 591, 153, 220, 350, 857, 630, 389, 826, 825, 673, 774, 580, 778, 724, 692, 198, 532, 725, 238, 572, 275, 896, 837, 310, 429, 680, 196, 835, 847, 807, 867, 390, 647, 837, 301, 392, 830, 402]\n"
          ]
        }
      ]
    },
    {
      "cell_type": "code",
      "source": [
        "def IsPrime(n):\n",
        "\tfor i in range(2, n//2 + 1):\n",
        "\t\tif n%i==0:\n",
        "\t\t\treturn 0\n",
        "\treturn 1\n",
        "odd=[]\n",
        "even=[]\n",
        "prime=[]\n",
        "for i in L:\n",
        "  if i%2==0:\n",
        "    even.append(i)\n",
        "  else:\n",
        "    odd.append(i)\n",
        "    if IsPrime(i)==1:\n",
        "      prime.append(i)\n",
        "\n",
        "print(\"Even:  \",even)\n",
        "print(\"odd:   \",odd)\n",
        "print(\"Prime: \",prime)\n",
        "  "
      ],
      "metadata": {
        "colab": {
          "base_uri": "https://localhost:8080/"
        },
        "id": "oRH485nAy__k",
        "outputId": "cd90528c-12c3-49da-ea43-aea6125b9f23"
      },
      "execution_count": null,
      "outputs": [
        {
          "output_type": "stream",
          "name": "stdout",
          "text": [
            "Even:   [548, 282, 550, 576, 260, 640, 102, 254, 516, 676, 798, 398, 680, 786, 130, 706, 536, 188, 250, 390, 120, 696, 400, 324, 564, 254, 632, 674, 892, 562, 554, 220, 350, 630, 826, 774, 580, 778, 724, 692, 198, 532, 238, 572, 896, 310, 680, 196, 390, 392, 830, 402]\n",
            "odd:    [241, 481, 505, 897, 319, 529, 161, 609, 787, 285, 529, 793, 801, 815, 551, 261, 133, 529, 603, 461, 821, 779, 413, 723, 483, 707, 635, 865, 193, 671, 449, 591, 153, 857, 389, 825, 673, 725, 275, 837, 429, 835, 847, 807, 867, 647, 837, 301]\n",
            "Prime:  [241, 787, 461, 821, 193, 449, 857, 389, 673, 647]\n"
          ]
        }
      ]
    },
    {
      "cell_type": "markdown",
      "source": [
        "**SOLUTION 7**"
      ],
      "metadata": {
        "id": "mQsjjufUzyP_"
      }
    },
    {
      "cell_type": "code",
      "source": [
        "D={1:\"One\",2:\"Two\",3:\"Three\",4:\"Four\",5:\"Five\"}\n",
        "key=D.keys()\n",
        "print(key)\n",
        "val=D.values()\n",
        "print(val)"
      ],
      "metadata": {
        "colab": {
          "base_uri": "https://localhost:8080/"
        },
        "id": "8j_LjpwDzxuC",
        "outputId": "179a8de0-188f-4033-fba2-797a3e5b0e9c"
      },
      "execution_count": null,
      "outputs": [
        {
          "output_type": "stream",
          "name": "stdout",
          "text": [
            "dict_keys([1, 2, 3, 4, 5])\n",
            "dict_values(['One', 'Two', 'Three', 'Four', 'Five'])\n"
          ]
        }
      ]
    },
    {
      "cell_type": "code",
      "source": [
        "fp=open('sol7.txt','w')\n",
        "key=D.keys()\n",
        "val=D.values()\n",
        "for i in range(0,len(D)):\n",
        "  fp.write(str(list(key)[i])+\", \"+str(list(val)[i])+\"\\n\")\n",
        "fp.close()\n",
        "\n",
        "print(\"Task complete\")\n"
      ],
      "metadata": {
        "colab": {
          "base_uri": "https://localhost:8080/"
        },
        "id": "_d3lTYvf3vUo",
        "outputId": "416f7e20-1a9a-4cc6-ac28-9257043b0830"
      },
      "execution_count": null,
      "outputs": [
        {
          "output_type": "stream",
          "name": "stdout",
          "text": [
            "Task complete\n"
          ]
        }
      ]
    },
    {
      "cell_type": "markdown",
      "source": [
        "**SOLUTION 8**"
      ],
      "metadata": {
        "id": "eXoHRjVAUtdv"
      }
    },
    {
      "cell_type": "code",
      "source": [
        "L=[\"One\",\"Two\",\"Three\",\"Four\",\"Five\"]\n",
        "fp=open('sol8.txt','w')\n",
        "for i in range(0,len(L)):\n",
        "  fp.write(str(L[i])+\", \"+str(len(L[i]))+\"\\n\")\n",
        "fp.close()\n",
        "\n",
        "print(\"Task complete\")\n"
      ],
      "metadata": {
        "colab": {
          "base_uri": "https://localhost:8080/"
        },
        "id": "IqSZTzovUsbT",
        "outputId": "5de8633b-e410-43ee-9f45-9db2b7b1ca20"
      },
      "execution_count": null,
      "outputs": [
        {
          "output_type": "stream",
          "name": "stdout",
          "text": [
            "Task complete\n"
          ]
        }
      ]
    },
    {
      "cell_type": "markdown",
      "source": [
        "**SOLUTION 9**"
      ],
      "metadata": {
        "id": "l2rxpTOeVSYc"
      }
    },
    {
      "cell_type": "code",
      "source": [
        "import random as r\n",
        "import string as s\n",
        "fp=open('sol9.txt','w')\n",
        "for i in range(0,100):\n",
        "  fp.write(str(\"\".join(r.sample(s.ascii_letters,r.randint(10,15))))+\"\\n\")\n",
        "fp.close()\n",
        "print(\"Task complete\")\n",
        "\n"
      ],
      "metadata": {
        "colab": {
          "base_uri": "https://localhost:8080/"
        },
        "id": "4t4op27iVPIu",
        "outputId": "301c49ac-1b66-45ec-e48c-91f4e38d1a4b"
      },
      "execution_count": null,
      "outputs": [
        {
          "output_type": "stream",
          "name": "stdout",
          "text": [
            "Task complete\n"
          ]
        }
      ]
    },
    {
      "cell_type": "markdown",
      "source": [
        "**SOLUTION 10**"
      ],
      "metadata": {
        "id": "DWD4qjhrWM1L"
      }
    },
    {
      "cell_type": "code",
      "source": [
        "import random as r\n",
        "import string as s\n",
        "\n",
        "def IsPrime(n):\n",
        "\tfor i in range(2, n//2 + 1):\n",
        "\t\tif n%i==0:\n",
        "\t\t\treturn 0\n",
        "\treturn 1\n",
        "prime=[]\n",
        "for i in range(600,801):\n",
        "  if(IsPrime(i)==1):\n",
        "    prime.append(i)\n",
        "\n",
        "fp=open('sol10.txt','w')\n",
        "for i in range(0,len(prime)):\n",
        "  fp.write(str(prime[i])+\"\\n\")\n",
        "fp.close()\n",
        "print(\"Task complete\")\n",
        "\n"
      ],
      "metadata": {
        "colab": {
          "base_uri": "https://localhost:8080/"
        },
        "id": "riMnwi_6WLJV",
        "outputId": "8db81996-ccb3-42da-d02b-23f0494284b5"
      },
      "execution_count": null,
      "outputs": [
        {
          "output_type": "stream",
          "name": "stdout",
          "text": [
            "Task complete\n"
          ]
        }
      ]
    },
    {
      "cell_type": "markdown",
      "source": [
        "**SOLUTION 11**"
      ],
      "metadata": {
        "id": "5qnByjDVoZGg"
      }
    },
    {
      "cell_type": "code",
      "source": [
        "import time as t\n",
        " \n",
        "start = t.time()\n",
        "x = 1000000\n",
        "for i in range(1,100000):\n",
        "    x += (x%i)\n",
        "end = t.time()\n",
        "print(\"Time taken:\",(end-start) * 10**3, \"ms\")"
      ],
      "metadata": {
        "colab": {
          "base_uri": "https://localhost:8080/"
        },
        "id": "ME8v7wgCoYrD",
        "outputId": "1d954a9b-0d21-4fab-dd8c-f002aff387e2"
      },
      "execution_count": null,
      "outputs": [
        {
          "output_type": "stream",
          "name": "stdout",
          "text": [
            "Time taken: 40.085792541503906 ms\n"
          ]
        }
      ]
    },
    {
      "cell_type": "markdown",
      "source": [
        "**SOLUTION 12**"
      ],
      "metadata": {
        "id": "vohlgCV2pZ26"
      }
    },
    {
      "cell_type": "code",
      "source": [
        "import time as t\n",
        "import random as r\n",
        "L5=[]\n",
        "for i in range(0,26*(10**3)):\n",
        "  L5.append(r.randint(0,1000))\n",
        "\n",
        "time=[]\n",
        "import time as t\n",
        "\n",
        "for j in range(1,6):\n",
        "  x=t.time()\n",
        "  L=L5[0:5000*j]\n",
        "  L.sort()\n",
        "  y=t.time()\n",
        "  time.append((y-x)*(10**3))\n",
        "\n"
      ],
      "metadata": {
        "id": "V7jBgolAphII"
      },
      "execution_count": null,
      "outputs": []
    },
    {
      "cell_type": "code",
      "source": [
        "\n",
        "import matplotlib.pyplot as plt\n",
        "\n",
        "x_axis=['5k','10k','15k','20k','25k']\n",
        "\n",
        "plt.plot(x_axis, time)\n",
        "plt.xlabel('no. of elements in list')\n",
        "plt.ylabel('time to sort list')\n",
        "plt.title('Solution-12')\n",
        "plt.show()"
      ],
      "metadata": {
        "colab": {
          "base_uri": "https://localhost:8080/",
          "height": 472
        },
        "id": "DvnBBSufr644",
        "outputId": "2d6de136-bd3b-4dc7-d712-76f0986f32aa"
      },
      "execution_count": null,
      "outputs": [
        {
          "output_type": "display_data",
          "data": {
            "text/plain": [
              "<Figure size 640x480 with 1 Axes>"
            ],
            "image/png": "[encoded data removed]"
          },
          "metadata": {}
        }
      ]
    },
    {
      "cell_type": "markdown",
      "source": [
        "**SOLUTION 13**"
      ],
      "metadata": {
        "id": "KBr4l-h9XUpm"
      }
    },
    {
      "cell_type": "code",
      "source": [
        "import random as r\n",
        "from statistics import mean\n",
        "D={'Physics':[r.randint(20, 100) for x in range(20)],\n",
        "   'Chemistry':[r.randint(20, 100) for x in range(20)],\n",
        "   'Mathematics':[r.randint(20, 100) for x in range(20)],\n",
        "   'Psychology':[r.randint(20, 100) for x in range(20)],\n",
        "   'English':[r.randint(20, 100) for x in range(20)]}\n",
        "print(D)\n",
        "\n",
        "for i in D:\n",
        "  print(f\"Min in {i}\",min(list(D[i])))\n",
        "  print(f\"Max in {i}\",max(list(D[i])))\n",
        "  avg=mean(list(D[i]))\n",
        "  print(f\"Avg in {i}\",round(avg,2))\n",
        "  print()\n"
      ],
      "metadata": {
        "colab": {
          "base_uri": "https://localhost:8080/"
        },
        "id": "6IwCjl1DXWc7",
        "outputId": "86a650e0-dbda-4976-981e-46947881f1e0"
      },
      "execution_count": null,
      "outputs": [
        {
          "output_type": "stream",
          "name": "stdout",
          "text": [
            "{'Physics': [34, 88, 28, 94, 44, 91, 64, 32, 82, 85, 22, 40, 62, 53, 58, 54, 73, 20, 20, 43], 'Chemistry': [84, 94, 40, 83, 93, 61, 52, 97, 32, 43, 96, 34, 46, 62, 89, 55, 52, 63, 40, 23], 'Mathematics': [87, 84, 33, 50, 45, 91, 22, 92, 57, 64, 98, 24, 52, 29, 65, 48, 100, 71, 51, 37], 'Psychology': [90, 26, 87, 94, 91, 27, 63, 84, 23, 49, 27, 59, 27, 29, 40, 56, 63, 97, 22, 21], 'English': [62, 77, 37, 38, 98, 90, 54, 83, 60, 42, 49, 69, 63, 24, 48, 27, 75, 95, 64, 27]}\n",
            "Min in Physics 20\n",
            "Max in Physics 94\n",
            "Avg in Physics 54.35\n",
            "\n",
            "Min in Chemistry 23\n",
            "Max in Chemistry 97\n",
            "Avg in Chemistry 61.95\n",
            "\n",
            "Min in Mathematics 22\n",
            "Max in Mathematics 100\n",
            "Avg in Mathematics 60\n",
            "\n",
            "Min in Psychology 21\n",
            "Max in Psychology 97\n",
            "Avg in Psychology 53.75\n",
            "\n",
            "Min in English 24\n",
            "Max in English 98\n",
            "Avg in English 59.1\n",
            "\n"
          ]
        }
      ]
    }
  ]
}