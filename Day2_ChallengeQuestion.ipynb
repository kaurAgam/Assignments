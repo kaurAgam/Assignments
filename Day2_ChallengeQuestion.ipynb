{
  "nbformat": 4,
  "nbformat_minor": 0,
  "metadata": {
    "colab": {
      "provenance": [],
      "authorship_tag": "ABX9TyODgHcKfDdpDWJcFwhiK0Wi",
      "include_colab_link": true
    },
    "kernelspec": {
      "name": "python3",
      "display_name": "Python 3"
    },
    "language_info": {
      "name": "python"
    }
  },
  "cells": [
    {
      "cell_type": "markdown",
      "metadata": {
        "id": "view-in-github",
        "colab_type": "text"
      },
      "source": [
        "<a href=\"https://colab.research.google.com/github/kaurAgam/Assignments/blob/main/Day2_ChallengeQuestion.ipynb\" target=\"_parent\"><img src=\"https://colab.research.google.com/assets/colab-badge.svg\" alt=\"Open In Colab\"/></a>"
      ]
    },
    {
      "cell_type": "code",
      "execution_count": 3,
      "metadata": {
        "colab": {
          "base_uri": "https://localhost:8080/"
        },
        "id": "ErgX6Zkgm8-w",
        "outputId": "23a849ba-8ac5-4de5-c56e-3ae64d048da6"
      },
      "outputs": [
        {
          "output_type": "stream",
          "name": "stdout",
          "text": [
            "['Aman', 'Ram', 'Shyam', 1, 2, 3]\n"
          ]
        }
      ],
      "source": [
        "#Write a python program to sort the list of heterogeneous data. e.g. L=[\"Ram\", 1, \"Shyam\", 2, \"Aman\", 3] \n",
        "\n",
        "L = [\"Ram\", 1, \"Shyam\", 2, \"Aman\", 3]\n",
        "num = []\n",
        "string = []\n",
        "for i in L:\n",
        "    if isinstance(i, int):\n",
        "        num.append(i)\n",
        "    else:\n",
        "        string.append(i)\n",
        "num.sort()\n",
        "string.sort()\n",
        "sorted_list = string + num\n",
        "print(sorted_list)\n"
      ]
    }
  ]
}